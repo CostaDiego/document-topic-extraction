{
 "cells": [
  {
   "cell_type": "markdown",
   "metadata": {
    "slideshow": {
     "slide_type": "notes"
    }
   },
   "source": [
    "# **Algorithm for Topic Extraction Using LDA**"
   ]
  },
  {
   "cell_type": "markdown",
   "metadata": {},
   "source": [
    "This document present the process of development of an unsupervised algorithm for topic extraction. Currently the most reliable technic is the LDA (Latent Dirichlet Allocation) algorithm, which is base on the Dirichlet distribution."
   ]
  },
  {
   "cell_type": "markdown",
   "metadata": {},
   "source": [
    "*This notebook is meant to save the important notes and the project decisions. However, a \".py\" file containing the same code is available on this folder.*"
   ]
  },
  {
   "cell_type": "markdown",
   "metadata": {},
   "source": [
    "## **Approach**"
   ]
  },
  {
   "cell_type": "markdown",
   "metadata": {},
   "source": [
    "## Input the Data"
   ]
  },
  {
   "cell_type": "markdown",
   "metadata": {},
   "source": [
    "#### The first step is to make the input of the data and the filter by language to avoid inconsistent results"
   ]
  },
  {
   "cell_type": "code",
   "execution_count": 1,
   "metadata": {},
   "outputs": [
    {
     "data": {
      "application/vnd.jupyter.widget-view+json": {
       "model_id": "40293e55e9d94738a7b64af13b5788d4",
       "version_major": 2,
       "version_minor": 0
      },
      "text/plain": [
       "HBox(children=(IntProgress(value=1, bar_style='info', max=1), HTML(value='')))"
      ]
     },
     "metadata": {},
     "output_type": "display_data"
    },
    {
     "name": "stdout",
     "output_type": "stream",
     "text": [
      "\n"
     ]
    },
    {
     "name": "stderr",
     "output_type": "stream",
     "text": [
      "/home/diego/Documentos/anaconda3/envs/i2a2/lib/python3.7/site-packages/tqdm/_tqdm.py:634: FutureWarning: The Panel class is removed from pandas. Accessing it from the top-level namespace will also be removed in the next version\n",
      "  from pandas import Panel\n"
     ]
    }
   ],
   "source": [
    "from Algorithms import preProcessing, modelUsageAPI"
   ]
  },
  {
   "cell_type": "code",
   "execution_count": 2,
   "metadata": {},
   "outputs": [],
   "source": [
    "paths = ['datasets/articles_bbc_2018_01_30.csv', 'datasets/transcripts.csv', 'datasets/topics.csv']\n",
    "targets = ['articles','transcript', 'question_text']"
   ]
  },
  {
   "cell_type": "code",
   "execution_count": 3,
   "metadata": {},
   "outputs": [
    {
     "name": "stdout",
     "output_type": "stream",
     "text": [
      "Loading the dataset 0.\n",
      "\n",
      "Input Format:\n",
      "Rows: 309, Columns: 2.\n",
      "\n",
      "Pre cleaning format:\n",
      "Rows: 308, Columns: 2\n",
      "Loading the dataset 1.\n",
      "\n",
      "Input Format:\n",
      "Rows: 2467, Columns: 2.\n",
      "\n",
      "Pre cleaning format:\n",
      "Rows: 2467, Columns: 2\n",
      "Loading the dataset 2.\n",
      "\n",
      "Input Format:\n",
      "Rows: 5000, Columns: 3.\n",
      "\n",
      "Pre cleaning format:\n",
      "Rows: 5000, Columns: 3\n",
      "\n",
      "Removing unwanted information using targets.\n"
     ]
    }
   ],
   "source": [
    "data = preProcessing.import_files(paths, targets,\n",
    "                                   preCleaning = True,\n",
    "                                   dropna = 'index',\n",
    "                                   verbose = True)"
   ]
  },
  {
   "cell_type": "code",
   "execution_count": 4,
   "metadata": {},
   "outputs": [
    {
     "data": {
      "text/plain": [
       "(7775, 1)"
      ]
     },
     "execution_count": 4,
     "metadata": {},
     "output_type": "execute_result"
    }
   ],
   "source": [
    "data.shape"
   ]
  },
  {
   "cell_type": "code",
   "execution_count": 5,
   "metadata": {},
   "outputs": [
    {
     "data": {
      "application/vnd.jupyter.widget-view+json": {
       "model_id": "8efe6c768bdf419f8ae307b6c7e8933a",
       "version_major": 2,
       "version_minor": 0
      },
      "text/plain": [
       "HBox(children=(IntProgress(value=0, max=7775), HTML(value='')))"
      ]
     },
     "metadata": {},
     "output_type": "display_data"
    },
    {
     "name": "stdout",
     "output_type": "stream",
     "text": [
      "\n",
      "en    7722\n",
      "fr       9\n",
      "fa       9\n",
      "id       5\n",
      "ru       4\n",
      "hi       4\n",
      "uk       4\n",
      "ar       4\n",
      "vi       4\n",
      "sw       3\n",
      "pt       2\n",
      "tr       2\n",
      "es       2\n",
      "de       1\n",
      "Name: lang, dtype: int64\n",
      "\n",
      "Most Frequent language: en    7722\n",
      "Name: lang, dtype: int64\n"
     ]
    },
    {
     "data": {
      "text/plain": [
       "en    7722\n",
       "Name: lang, dtype: int64"
      ]
     },
     "execution_count": 5,
     "metadata": {},
     "output_type": "execute_result"
    }
   ],
   "source": [
    "preProcessing.language_detection(data,\n",
    "                                 verbose = True)"
   ]
  },
  {
   "cell_type": "code",
   "execution_count": 6,
   "metadata": {},
   "outputs": [
    {
     "name": "stdout",
     "output_type": "stream",
     "text": [
      "Cleaning data using 'en' language.\n"
     ]
    }
   ],
   "source": [
    "data = preProcessing.language_cleaning(dataFile = data,\n",
    "                                        language = 'en',\n",
    "                                        verbose = True)"
   ]
  },
  {
   "cell_type": "markdown",
   "metadata": {},
   "source": [
    "## Pre Processing the data"
   ]
  },
  {
   "cell_type": "markdown",
   "metadata": {},
   "source": [
    "#### **Tokenizing** the documents to the word level."
   ]
  },
  {
   "cell_type": "code",
   "execution_count": 7,
   "metadata": {},
   "outputs": [
    {
     "name": "stdout",
     "output_type": "stream",
     "text": [
      "Tokenizing data to word\n",
      ".\n"
     ]
    },
    {
     "data": {
      "application/vnd.jupyter.widget-view+json": {
       "model_id": "1077a96f59014c959e6b0fff3ca36fc6",
       "version_major": 2,
       "version_minor": 0
      },
      "text/plain": [
       "HBox(children=(IntProgress(value=0, max=7722), HTML(value='')))"
      ]
     },
     "metadata": {},
     "output_type": "display_data"
    },
    {
     "name": "stdout",
     "output_type": "stream",
     "text": [
      "\n"
     ]
    },
    {
     "data": {
      "application/vnd.jupyter.widget-view+json": {
       "model_id": "3164de7700a243fd9b4242e8fa20422d",
       "version_major": 2,
       "version_minor": 0
      },
      "text/plain": [
       "HBox(children=(IntProgress(value=0, max=7722), HTML(value='')))"
      ]
     },
     "metadata": {},
     "output_type": "display_data"
    },
    {
     "name": "stdout",
     "output_type": "stream",
     "text": [
      "\n"
     ]
    }
   ],
   "source": [
    "data = preProcessing.tokenization(data, level = 'word', verbose = True)"
   ]
  },
  {
   "cell_type": "markdown",
   "metadata": {},
   "source": [
    "#### Preparing for **Lemmatizizing** using POS tagging."
   ]
  },
  {
   "cell_type": "code",
   "execution_count": 8,
   "metadata": {},
   "outputs": [
    {
     "data": {
      "application/vnd.jupyter.widget-view+json": {
       "model_id": "4b02da8317b54e16898f55ae7d3ad46a",
       "version_major": 2,
       "version_minor": 0
      },
      "text/plain": [
       "HBox(children=(IntProgress(value=0, max=7722), HTML(value='')))"
      ]
     },
     "metadata": {},
     "output_type": "display_data"
    },
    {
     "name": "stdout",
     "output_type": "stream",
     "text": [
      "\n"
     ]
    }
   ],
   "source": [
    "data = preProcessing.POS_tagging(data)"
   ]
  },
  {
   "cell_type": "code",
   "execution_count": 9,
   "metadata": {},
   "outputs": [
    {
     "data": {
      "application/vnd.jupyter.widget-view+json": {
       "model_id": "a69ae4e944254dfbb3a8ed70f1d612fd",
       "version_major": 2,
       "version_minor": 0
      },
      "text/plain": [
       "HBox(children=(IntProgress(value=0, max=7722), HTML(value='')))"
      ]
     },
     "metadata": {},
     "output_type": "display_data"
    },
    {
     "name": "stdout",
     "output_type": "stream",
     "text": [
      "\n"
     ]
    }
   ],
   "source": [
    "data = preProcessing.lemmatizing(data)"
   ]
  },
  {
   "cell_type": "markdown",
   "metadata": {},
   "source": [
    "#### Removing **StopWords** using the english stopwords from the Natural Language Toolkit (NLTK) and removing any token less than 2 characthers."
   ]
  },
  {
   "cell_type": "code",
   "execution_count": 10,
   "metadata": {},
   "outputs": [],
   "source": [
    "data = preProcessing.removeStopWords(data, minSize = 2)"
   ]
  },
  {
   "cell_type": "markdown",
   "metadata": {},
   "source": [
    "## Trainning the LDA Model"
   ]
  },
  {
   "cell_type": "markdown",
   "metadata": {},
   "source": [
    "### Preparing the Data"
   ]
  },
  {
   "cell_type": "markdown",
   "metadata": {},
   "source": [
    "#### Generating the tokens using the Bigram and the Trigram Model"
   ]
  },
  {
   "cell_type": "code",
   "execution_count": 11,
   "metadata": {},
   "outputs": [
    {
     "name": "stdout",
     "output_type": "stream",
     "text": [
      "Getting tokens From data file and converting into a list of tokens.\n",
      "Building the Bigram Model\n",
      "Building the Trigram Model\n",
      "Importing the Trigram Model and converting into list\n"
     ]
    }
   ],
   "source": [
    "tokens = preProcessing.Bi_n_TrigramModel(data, min_cnt = 1, verbose = True)"
   ]
  },
  {
   "cell_type": "markdown",
   "metadata": {},
   "source": [
    "#### Creating the dictionary using the the tokens"
   ]
  },
  {
   "cell_type": "code",
   "execution_count": 12,
   "metadata": {},
   "outputs": [
    {
     "name": "stdout",
     "output_type": "stream",
     "text": [
      "Generating the Ditionary.\n",
      "Filtering dictionary using the minimun threshold: 3\n"
     ]
    }
   ],
   "source": [
    "dictionary = preProcessing.generateDictionary(tokens, min_thld = 3, verbose = True)\n",
    "modelUsageAPI.save(dictionary,'models/dictionary.dict')"
   ]
  },
  {
   "cell_type": "markdown",
   "metadata": {},
   "source": [
    "#### Generating the BOW for the LDA model"
   ]
  },
  {
   "cell_type": "code",
   "execution_count": 13,
   "metadata": {},
   "outputs": [
    {
     "name": "stdout",
     "output_type": "stream",
     "text": [
      "Generating Bag Of Words.\n"
     ]
    }
   ],
   "source": [
    "bow = preProcessing.generateBOW(dictionary, tokens, verbose = True)"
   ]
  },
  {
   "cell_type": "markdown",
   "metadata": {},
   "source": [
    "#### Generating the LDA based model"
   ]
  },
  {
   "cell_type": "code",
   "execution_count": 14,
   "metadata": {},
   "outputs": [
    {
     "name": "stdout",
     "output_type": "stream",
     "text": [
      "Trainning LDA model using the inputed BOW and Dictionary.\n",
      "Parameters: Topics: 14, Passes: 4\n",
      "CPU times: user 1min 1s, sys: 23.4 s, total: 1min 25s\n",
      "Wall time: 48.7 s\n"
     ]
    }
   ],
   "source": [
    "numberOfTopics = 14\n",
    "%time LDAModel = preProcessing.trainModel(bow, dictionary, numTopics = numberOfTopics, numPasses = 4, verbose = True)"
   ]
  },
  {
   "cell_type": "markdown",
   "metadata": {},
   "source": [
    "#### A quick view on the topics"
   ]
  },
  {
   "cell_type": "code",
   "execution_count": 15,
   "metadata": {},
   "outputs": [
    {
     "name": "stdout",
     "output_type": "stream",
     "text": [
      "0: 0.022*\"site\" + 0.014*\"book\" + 0.009*\"story\" + 0.008*\"mall\" + 0.007*\"film\" + 0.006*\"video\" + 0.006*\"tell\" + 0.005*\"laughter\" + 0.005*\"waterproof\" + 0.005*\"read\" + 0.005*\"ring\" + 0.005*\"call\" + 0.005*\"lie\" + 0.005*\"location\" + 0.005*\"cable\" + 0.005*\"thing\" + 0.005*\"think\" + 0.004*\"happen\" + 0.004*\"find\" + 0.004*\"many\"\n",
      "\n",
      "1: 0.014*\"look\" + 0.010*\"water\" + 0.010*\"planet\" + 0.009*\"find\" + 0.009*\"earth\" + 0.008*\"animal\" + 0.008*\"time\" + 0.007*\"life\" + 0.006*\"think\" + 0.006*\"ocean\" + 0.006*\"specie\" + 0.006*\"back\" + 0.006*\"place\" + 0.005*\"thing\" + 0.005*\"live\" + 0.005*\"big\" + 0.005*\"way\" + 0.004*\"could\" + 0.004*\"show\" + 0.004*\"first\"\n",
      "\n",
      "2: 0.007*\"country\" + 0.007*\"cancer\" + 0.006*\"today\" + 0.005*\"farmer\" + 0.005*\"oil\" + 0.005*\"energy\" + 0.005*\"look\" + 0.005*\"year\" + 0.005*\"government\" + 0.005*\"percent\" + 0.004*\"world\" + 0.004*\"system\" + 0.004*\"think\" + 0.004*\"let\" + 0.004*\"could\" + 0.004*\"problem\" + 0.004*\"time\" + 0.004*\"food\" + 0.004*\"good\" + 0.004*\"market\"\n",
      "\n",
      "3: 0.015*\"people\" + 0.008*\"think\" + 0.008*\"country\" + 0.007*\"city\" + 0.006*\"work\" + 0.006*\"world\" + 0.006*\"thing\" + 0.006*\"way\" + 0.005*\"good\" + 0.005*\"many\" + 0.005*\"percent\" + 0.005*\"time\" + 0.004*\"today\" + 0.004*\"look\" + 0.004*\"change\" + 0.004*\"year\" + 0.004*\"could\" + 0.004*\"first\" + 0.004*\"right\" + 0.004*\"new\"\n",
      "\n",
      "4: 0.024*\"look\" + 0.017*\"design\" + 0.017*\"think\" + 0.014*\"could\" + 0.011*\"building\" + 0.010*\"work\" + 0.009*\"laughter\" + 0.008*\"art\" + 0.008*\"thing\" + 0.006*\"light\" + 0.006*\"love\" + 0.006*\"color\" + 0.006*\"create\" + 0.005*\"style\" + 0.005*\"artist\" + 0.005*\"kind\" + 0.005*\"project\" + 0.005*\"paint\" + 0.005*\"piece\" + 0.005*\"time\"\n",
      "\n",
      "5: 0.069*\"look\" + 0.057*\"item\" + 0.046*\"could\" + 0.030*\"think\" + 0.025*\"either\" + 0.025*\"buy\" + 0.021*\"receive\" + 0.020*\"tell\" + 0.019*\"size\" + 0.016*\"store\" + 0.016*\"happen\" + 0.014*\"website\" + 0.013*\"wonder\" + 0.012*\"dimension\" + 0.009*\"sale\" + 0.008*\"shoe\" + 0.008*\"check\" + 0.008*\"large\" + 0.008*\"offer\" + 0.008*\"boot\"\n",
      "\n",
      "6: 0.017*\"brain\" + 0.009*\"cell\" + 0.008*\"body\" + 0.008*\"thing\" + 0.008*\"think\" + 0.007*\"look\" + 0.007*\"way\" + 0.006*\"right\" + 0.006*\"sound\" + 0.006*\"show\" + 0.005*\"human\" + 0.005*\"could\" + 0.005*\"time\" + 0.005*\"different\" + 0.005*\"first\" + 0.005*\"call\" + 0.005*\"work\" + 0.004*\"kind\" + 0.004*\"animal\" + 0.004*\"find\"\n",
      "\n",
      "7: 0.017*\"woman\" + 0.012*\"life\" + 0.011*\"tell\" + 0.009*\"love\" + 0.009*\"child\" + 0.008*\"story\" + 0.007*\"could\" + 0.007*\"girl\" + 0.006*\"day\" + 0.006*\"never\" + 0.006*\"men\" + 0.006*\"laughter\" + 0.006*\"family\" + 0.005*\"think\" + 0.005*\"time\" + 0.005*\"man\" + 0.005*\"back\" + 0.005*\"work\" + 0.005*\"many\" + 0.005*\"give\"\n",
      "\n",
      "8: 0.012*\"laughter\" + 0.011*\"thing\" + 0.011*\"look\" + 0.011*\"think\" + 0.009*\"could\" + 0.008*\"people\" + 0.008*\"time\" + 0.008*\"right\" + 0.007*\"work\" + 0.007*\"start\" + 0.006*\"way\" + 0.005*\"good\" + 0.005*\"tell\" + 0.005*\"find\" + 0.005*\"happen\" + 0.004*\"let\" + 0.004*\"back\" + 0.004*\"two\" + 0.004*\"call\" + 0.004*\"day\"\n",
      "\n",
      "9: 0.036*\"woman\" + 0.019*\"country\" + 0.018*\"school\" + 0.015*\"small\" + 0.013*\"people\" + 0.011*\"africa\" + 0.011*\"education\" + 0.011*\"black\" + 0.010*\"child\" + 0.009*\"think\" + 0.009*\"tell\" + 0.007*\"ask\" + 0.007*\"teacher\" + 0.007*\"african\" + 0.006*\"student\" + 0.005*\"help\" + 0.005*\"happen\" + 0.005*\"applause\" + 0.005*\"law\" + 0.005*\"many\"\n",
      "\n",
      "10: 0.141*\"order\" + 0.046*\"think\" + 0.031*\"return\" + 0.028*\"product\" + 0.021*\"able\" + 0.017*\"could\" + 0.017*\"ship\" + 0.014*\"online\" + 0.014*\"try\" + 0.012*\"purchase\" + 0.011*\"process\" + 0.010*\"look\" + 0.010*\"laptop\" + 0.010*\"work\" + 0.010*\"sure\" + 0.009*\"place\" + 0.009*\"home\" + 0.008*\"bring\" + 0.008*\"rather\" + 0.008*\"back\"\n",
      "\n",
      "11: 0.012*\"people\" + 0.012*\"think\" + 0.011*\"thing\" + 0.008*\"way\" + 0.007*\"work\" + 0.007*\"world\" + 0.006*\"could\" + 0.006*\"look\" + 0.006*\"time\" + 0.005*\"kind\" + 0.005*\"laughter\" + 0.005*\"start\" + 0.004*\"right\" + 0.004*\"idea\" + 0.004*\"lot\" + 0.004*\"call\" + 0.004*\"find\" + 0.004*\"mean\" + 0.004*\"first\" + 0.004*\"give\"\n",
      "\n",
      "12: 0.018*\"ant\" + 0.012*\"discount\" + 0.012*\"kind_material\" + 0.012*\"battery\" + 0.007*\"help\" + 0.007*\"bracelet\" + 0.006*\"election\" + 0.006*\"jackie\" + 0.006*\"long\" + 0.006*\"colony\" + 0.005*\"universe\" + 0.005*\"protein\" + 0.005*\"leave_door\" + 0.005*\"new\" + 0.004*\"canada\" + 0.004*\"mark\" + 0.004*\"old\" + 0.004*\"area\" + 0.004*\"cabinet\" + 0.004*\"number\"\n",
      "\n",
      "13: 0.029*\"people\" + 0.014*\"think\" + 0.008*\"laughter\" + 0.008*\"thing\" + 0.007*\"time\" + 0.006*\"talk\" + 0.006*\"life\" + 0.006*\"way\" + 0.006*\"right\" + 0.006*\"good\" + 0.006*\"work\" + 0.005*\"start\" + 0.005*\"call\" + 0.005*\"find\" + 0.005*\"many\" + 0.005*\"give\" + 0.004*\"ask\" + 0.004*\"look\" + 0.004*\"lot\" + 0.004*\"first\"\n",
      "\n"
     ]
    }
   ],
   "source": [
    "for i,topic in LDAModel.show_topics(formatted=True, num_topics = numberOfTopics, num_words=20):\n",
    "    print(str(i)+\": \"+ topic)\n",
    "    print()"
   ]
  },
  {
   "cell_type": "code",
   "execution_count": 16,
   "metadata": {},
   "outputs": [],
   "source": [
    "modelUsageAPI.save(LDAModel,'models/LDAmodelExtended.pkl')"
   ]
  },
  {
   "cell_type": "markdown",
   "metadata": {},
   "source": [
    "## Validating the Model"
   ]
  },
  {
   "cell_type": "markdown",
   "metadata": {},
   "source": [
    "#### Validating the model on the document in position 0."
   ]
  },
  {
   "cell_type": "code",
   "execution_count": 17,
   "metadata": {},
   "outputs": [],
   "source": [
    "nbDoc = 0\n",
    "valDoc = data.articles.loc[nbDoc]"
   ]
  },
  {
   "cell_type": "code",
   "execution_count": 18,
   "metadata": {},
   "outputs": [
    {
     "name": "stdout",
     "output_type": "stream",
     "text": [
      "Image copyright PA/EPA Image caption Oligarch Roman Abramovich (l) and PM Dmitry Medvedev are on the list\n",
      "\n",
      "Russian President Vladimir Putin says a list of officials and businessmen close to the Kremlin published by the US has in effect targeted all Russian people.\n",
      "\n",
      "The list names 210 top Russians as part of a sanctions law aimed at punishing Moscow for meddling in the US election.\n",
      "\n",
      "However, the US stressed those named were not subject to new sanctions.\n",
      "\n",
      "Mr Putin said the list was an unfr\n"
     ]
    }
   ],
   "source": [
    "print(valDoc[:500])"
   ]
  },
  {
   "cell_type": "code",
   "execution_count": 19,
   "metadata": {},
   "outputs": [
    {
     "data": {
      "text/plain": [
       "[(11, 0.49627098), (13, 0.50307363)]"
      ]
     },
     "execution_count": 19,
     "metadata": {},
     "output_type": "execute_result"
    }
   ],
   "source": [
    "LDAModel[bow[nbDoc]]"
   ]
  },
  {
   "cell_type": "code",
   "execution_count": 20,
   "metadata": {},
   "outputs": [
    {
     "name": "stdout",
     "output_type": "stream",
     "text": [
      "Loading the Document from path: Document.txt\n",
      "Loading model from path: models/LDAmodelExtended.pkl\n",
      "Loading dictionary from path: models/dictionary.dict\n",
      "Inferring:\n",
      "\n"
     ]
    },
    {
     "data": {
      "text/html": [
       "<div>\n",
       "<style scoped>\n",
       "    .dataframe tbody tr th:only-of-type {\n",
       "        vertical-align: middle;\n",
       "    }\n",
       "\n",
       "    .dataframe tbody tr th {\n",
       "        vertical-align: top;\n",
       "    }\n",
       "\n",
       "    .dataframe thead th {\n",
       "        text-align: right;\n",
       "    }\n",
       "</style>\n",
       "<table border=\"1\" class=\"dataframe\">\n",
       "  <thead>\n",
       "    <tr style=\"text-align: right;\">\n",
       "      <th></th>\n",
       "      <th>topic #</th>\n",
       "      <th>weight</th>\n",
       "      <th>words in topic</th>\n",
       "    </tr>\n",
       "  </thead>\n",
       "  <tbody>\n",
       "    <tr>\n",
       "      <td>0</td>\n",
       "      <td>3</td>\n",
       "      <td>0.08</td>\n",
       "      <td>0.015*\"people\" + 0.008*\"think\" + 0.008*\"countr...</td>\n",
       "    </tr>\n",
       "    <tr>\n",
       "      <td>1</td>\n",
       "      <td>8</td>\n",
       "      <td>0.11</td>\n",
       "      <td>0.012*\"laughter\" + 0.011*\"thing\" + 0.011*\"look...</td>\n",
       "    </tr>\n",
       "    <tr>\n",
       "      <td>2</td>\n",
       "      <td>9</td>\n",
       "      <td>0.03</td>\n",
       "      <td>0.036*\"woman\" + 0.019*\"country\" + 0.018*\"schoo...</td>\n",
       "    </tr>\n",
       "    <tr>\n",
       "      <td>3</td>\n",
       "      <td>11</td>\n",
       "      <td>0.68</td>\n",
       "      <td>0.012*\"people\" + 0.012*\"think\" + 0.011*\"thing\"...</td>\n",
       "    </tr>\n",
       "    <tr>\n",
       "      <td>4</td>\n",
       "      <td>13</td>\n",
       "      <td>0.10</td>\n",
       "      <td>0.029*\"people\" + 0.014*\"think\" + 0.008*\"laught...</td>\n",
       "    </tr>\n",
       "  </tbody>\n",
       "</table>\n",
       "</div>"
      ],
      "text/plain": [
       "   topic #  weight                                     words in topic\n",
       "0        3    0.08  0.015*\"people\" + 0.008*\"think\" + 0.008*\"countr...\n",
       "1        8    0.11  0.012*\"laughter\" + 0.011*\"thing\" + 0.011*\"look...\n",
       "2        9    0.03  0.036*\"woman\" + 0.019*\"country\" + 0.018*\"schoo...\n",
       "3       11    0.68  0.012*\"people\" + 0.012*\"think\" + 0.011*\"thing\"...\n",
       "4       13    0.10  0.029*\"people\" + 0.014*\"think\" + 0.008*\"laught..."
      ]
     },
     "execution_count": 20,
     "metadata": {},
     "output_type": "execute_result"
    }
   ],
   "source": [
    "modelUsageAPI.infer('Document.txt','models/LDAmodelExtended.pkl','models/dictionary.dict' )"
   ]
  },
  {
   "cell_type": "code",
   "execution_count": null,
   "metadata": {},
   "outputs": [],
   "source": []
  }
 ],
 "metadata": {
  "kernelspec": {
   "display_name": "Python 3",
   "language": "python",
   "name": "python3"
  },
  "language_info": {
   "codemirror_mode": {
    "name": "ipython",
    "version": 3
   },
   "file_extension": ".py",
   "mimetype": "text/x-python",
   "name": "python",
   "nbconvert_exporter": "python",
   "pygments_lexer": "ipython3",
   "version": "3.7.4"
  }
 },
 "nbformat": 4,
 "nbformat_minor": 4
}
